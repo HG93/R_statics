{
  "nbformat": 4,
  "nbformat_minor": 0,
  "metadata": {
    "colab": {
      "name": "마크다운.ipynb",
      "provenance": [],
      "collapsed_sections": [],
      "authorship_tag": "ABX9TyPzEyEVLVzI7xiAe/RmWWOJ",
      "include_colab_link": true
    },
    "kernelspec": {
      "name": "ir",
      "display_name": "R"
    }
  },
  "cells": [
    {
      "cell_type": "markdown",
      "metadata": {
        "id": "view-in-github",
        "colab_type": "text"
      },
      "source": [
        "<a href=\"https://colab.research.google.com/github/HG93/R_statics/blob/master/%EB%A7%88%ED%81%AC%EB%8B%A4%EC%9A%B4.ipynb\" target=\"_parent\"><img src=\"https://colab.research.google.com/assets/colab-badge.svg\" alt=\"Open In Colab\"/></a>"
      ]
    },
    {
      "cell_type": "markdown",
      "metadata": {
        "id": "vi-N-SUiG3HO",
        "colab_type": "text"
      },
      "source": [
        "#마크다운\n",
        "#제목1\n",
        "##제목2\n",
        "###제목3\n",
        "####제목4\n",
        "#####제목5\n"
      ]
    },
    {
      "cell_type": "markdown",
      "metadata": {
        "id": "1skYRu2mG2u2",
        "colab_type": "text"
      },
      "source": [
        "#줄바꿈 : 스페이스바 2번 입력\n",
        "마크다운  \n",
        "마크다운  \n",
        "\n",
        "  \n",
        "마크다운<br>\n",
        "마크다운"
      ]
    },
    {
      "cell_type": "markdown",
      "metadata": {
        "id": "wVQ673jbIb4_",
        "colab_type": "text"
      },
      "source": [
        "#글자 꾸미기: 진하게 (별표)\n",
        "**진하게보이나요**<br>\n",
        "*강조하기*<br>\n",
        "~취소선~"
      ]
    },
    {
      "cell_type": "markdown",
      "metadata": {
        "id": "jne0ar1oJATg",
        "colab_type": "text"
      },
      "source": [
        "# 구분선: 하이픈 여러개\n",
        "-----"
      ]
    },
    {
      "cell_type": "markdown",
      "metadata": {
        "id": "mqqJFIfZJBMu",
        "colab_type": "text"
      },
      "source": [
        "#인용구: 크다 부등호\n",
        "> t시간은 금이라구, 친구!"
      ]
    },
    {
      "cell_type": "markdown",
      "metadata": {
        "id": "k2Z_J1HqJBBZ",
        "colab_type": "text"
      },
      "source": [
        "#순서있는 목록 : 숫자기호\n",
        "## 좋아하는 게임들\n",
        "1. 디아블로\n",
        "2. 스타\n",
        "3. 롤\n",
        "4. 와우"
      ]
    },
    {
      "cell_type": "markdown",
      "metadata": {
        "id": "NbTayoujJAqH",
        "colab_type": "text"
      },
      "source": [
        "#순서없는 목록 : 각종기호, 들여쓰기\n",
        "## 좋아하는 게임들\n",
        "*  블리자드  \n",
        "  +디아블로  \n",
        "  +스타크래프트  \n",
        "*마이크로소프트\n",
        "*소니\n",
        "*라이엇"
      ]
    },
    {
      "cell_type": "markdown",
      "metadata": {
        "id": "WQDfwgw3K7z-",
        "colab_type": "text"
      },
      "source": [
        "#순서없는 목록 : 각종기호, 들여쓰기\n",
        "## 좋아하는 게임들\n",
        "*  블리자드  \n",
        "\n",
        "  \n",
        "*마이크로소프트\n",
        "*소니\n",
        "*라이엇"
      ]
    },
    {
      "cell_type": "markdown",
      "metadata": {
        "id": "UzRLOYS1KqVI",
        "colab_type": "text"
      },
      "source": [
        "# 링크 : 대괄호로 링크제목, 괄호로 링크주소\n",
        "[네이버](http://naver.com)<br>\n",
        "[구글](http://google.com)"
      ]
    },
    {
      "cell_type": "markdown",
      "metadata": {
        "id": "4hR_nUbRKql-",
        "colab_type": "text"
      },
      "source": [
        "#이미지 : 느낌표와 괄호\n",
        "![](data:image/jpeg;base64,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)"
      ]
    },
    {
      "cell_type": "markdown",
      "metadata": {
        "id": "-dmxUyDjMIYg",
        "colab_type": "text"
      },
      "source": [
        "#표작성\n",
        "\n",
        "| 이름 | 국어 | 영어 | 수학 |\n",
        "|----|----|----|----|\n",
        "|빠커|98|78|23|\n",
        "|울프|98|78|23|\n"
      ]
    },
    {
      "cell_type": "markdown",
      "metadata": {
        "id": "J_Rmyt9qM9pf",
        "colab_type": "text"
      },
      "source": [
        "#수학식:달러기호\n",
        "$\\bar{x} = {1 \\over n}(x_1 + x_2) $"
      ]
    }
  ]
}